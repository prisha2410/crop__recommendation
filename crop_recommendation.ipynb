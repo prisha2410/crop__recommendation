{
  "nbformat": 4,
  "nbformat_minor": 0,
  "metadata": {
    "colab": {
      "provenance": []
    },
    "kernelspec": {
      "name": "python3",
      "display_name": "Python 3"
    },
    "language_info": {
      "name": "python"
    }
  },
  "cells": [
    {
      "cell_type": "code",
      "execution_count": null,
      "metadata": {
        "id": "iEB7to9fbXvf"
      },
      "outputs": [],
      "source": [
        "import pandas as pd\n",
        "import numpy as np\n",
        "import matplotlib.pyplot as plt\n",
        "import seaborn as sns\n",
        "from sklearn.model_selection import train_test_split\n",
        "from sklearn.preprocessing import StandardScaler\n",
        "from sklearn import metrics\n",
        "from sklearn.metrics import classification_report\n",
        "import time\n",
        "acc = []\n",
        "model = []\n",
        "# from sklearn.metrics import confusion_matrix\n",
        "# from sklearn.metrics import accuracy_score\n",
        "# from sklearn.metrics import f1_score"
      ]
    },
    {
      "cell_type": "code",
      "source": [
        "from google.colab import drive\n",
        "drive.mount('/content/drive')"
      ],
      "metadata": {
        "colab": {
          "base_uri": "https://localhost:8080/"
        },
        "id": "s3QzRyQ9kxZ8",
        "outputId": "23d69e14-e917-402f-910b-658982fcdee0"
      },
      "execution_count": null,
      "outputs": [
        {
          "output_type": "stream",
          "name": "stdout",
          "text": [
            "Mounted at /content/drive\n"
          ]
        }
      ]
    },
    {
      "cell_type": "code",
      "source": [
        "dataset = pd.read_csv('/content/drive/MyDrive/ Datasets/Crop_recommendation.csv')"
      ],
      "metadata": {
        "id": "PEArqArc-Znp"
      },
      "execution_count": null,
      "outputs": []
    },
    {
      "cell_type": "code",
      "source": [
        "#split dataset\n",
        "x = dataset.iloc[:, :-1]\n",
        "y = dataset.iloc[:, -1]\n",
        "x_train, x_test, y_train, y_test = train_test_split(x, y, random_state=42, test_size=0.2)"
      ],
      "metadata": {
        "id": "MrR5VAfn-8Wt"
      },
      "execution_count": null,
      "outputs": []
    },
    {
      "cell_type": "markdown",
      "source": [
        "# KNN"
      ],
      "metadata": {
        "id": "f3M4yXZ2l6Cu"
      }
    },
    {
      "cell_type": "code",
      "source": [
        "# from sklearn.neighbors import KNeighborsClassifier\n",
        "# error_rates = []\n",
        "# for i in np.arange(1, 10):\n",
        "\n",
        "#     new_model = KNeighborsClassifier(n_neighbors = i)\n",
        "\n",
        "#     new_model.fit(x_train, y_train)\n",
        "\n",
        "#     y_pred = new_model.predict(x_test)\n",
        "\n",
        "#     error_rates.append(np.mean(y_pred != y_test))\n",
        "#     knn_acc = []\n",
        "#     knn_acc.append(metrics.accuracy_score(y_test, y_pred))\n",
        "# plt.plot(error_rates)\n",
        "# #plt.plot(knn_acc)\n"
      ],
      "metadata": {
        "id": "_ROvYJzT7M1Y"
      },
      "execution_count": null,
      "outputs": []
    },
    {
      "cell_type": "code",
      "source": [
        "from sklearn.neighbors import KNeighborsClassifier\n",
        "classifier = KNeighborsClassifier(n_neighbors=4)\n",
        "classifier.fit(x_train, y_train)\n",
        "start_time=time.time()\n",
        "y_pred = classifier.predict(x_test)\n",
        "end_time=time.time()\n",
        "#cm = confusion_matrix(y_test, y_pred)\n",
        "#print(cm)\n",
        "x = metrics.accuracy_score(y_test, y_pred)\n",
        "print('Accuracy:',x )\n",
        "acc.append(x)\n",
        "model.append('KNN')\n",
        "print(classification_report(y_test, y_pred))\n",
        "\n",
        "\n",
        "\n",
        "duration= end_time-start_time\n",
        "print(duration)"
      ],
      "metadata": {
        "colab": {
          "base_uri": "https://localhost:8080/"
        },
        "id": "FPYUZ6WYIAJy",
        "outputId": "1fc0a32d-9866-45d3-841e-979c98638c15"
      },
      "execution_count": null,
      "outputs": [
        {
          "output_type": "stream",
          "name": "stdout",
          "text": [
            "Accuracy: 0.9681818181818181\n",
            "              precision    recall  f1-score   support\n",
            "\n",
            "       apple       1.00      1.00      1.00        23\n",
            "      banana       1.00      1.00      1.00        21\n",
            "   blackgram       0.95      1.00      0.98        20\n",
            "    chickpea       1.00      1.00      1.00        26\n",
            "     coconut       1.00      1.00      1.00        27\n",
            "      coffee       1.00      1.00      1.00        17\n",
            "      cotton       0.85      1.00      0.92        17\n",
            "      grapes       1.00      1.00      1.00        14\n",
            "        jute       0.79      0.96      0.86        23\n",
            " kidneybeans       0.95      1.00      0.98        20\n",
            "      lentil       0.85      1.00      0.92        11\n",
            "       maize       1.00      0.86      0.92        21\n",
            "       mango       1.00      1.00      1.00        19\n",
            "   mothbeans       1.00      0.92      0.96        24\n",
            "    mungbean       1.00      1.00      1.00        19\n",
            "   muskmelon       1.00      1.00      1.00        17\n",
            "      orange       1.00      1.00      1.00        14\n",
            "      papaya       1.00      1.00      1.00        23\n",
            "  pigeonpeas       1.00      0.91      0.95        23\n",
            " pomegranate       1.00      1.00      1.00        23\n",
            "        rice       0.93      0.68      0.79        19\n",
            "  watermelon       1.00      1.00      1.00        19\n",
            "\n",
            "    accuracy                           0.97       440\n",
            "   macro avg       0.97      0.97      0.97       440\n",
            "weighted avg       0.97      0.97      0.97       440\n",
            "\n",
            "0.028771400451660156\n"
          ]
        }
      ]
    },
    {
      "cell_type": "markdown",
      "source": [
        "# Random Forest"
      ],
      "metadata": {
        "id": "1HBH4myqrV6D"
      }
    },
    {
      "cell_type": "code",
      "source": [
        "from sklearn.ensemble import RandomForestClassifier as rfc\n",
        "classifier = rfc( )\n",
        "classifier.fit(x_train,y_train)\n",
        "start_time=time.time()\n",
        "y_pred = classifier.predict(x_test)\n",
        "end_time=time.time()\n",
        "x = metrics.accuracy_score(y_test, y_pred)\n",
        "print('Accuracy:',x )\n",
        "acc.append(x)\n",
        "model.append('Random forest')\n",
        "print(classification_report(y_test, y_pred))\n",
        "\n",
        "\n",
        "duration= end_time-start_time\n",
        "print(duration)\n"
      ],
      "metadata": {
        "colab": {
          "base_uri": "https://localhost:8080/"
        },
        "id": "WqQ6i_aKrn6H",
        "outputId": "01493e6e-d357-465c-b408-5c655e0f03fb"
      },
      "execution_count": null,
      "outputs": [
        {
          "output_type": "stream",
          "name": "stdout",
          "text": [
            "Accuracy: 0.9931818181818182\n",
            "              precision    recall  f1-score   support\n",
            "\n",
            "       apple       1.00      1.00      1.00        23\n",
            "      banana       1.00      1.00      1.00        21\n",
            "   blackgram       1.00      1.00      1.00        20\n",
            "    chickpea       1.00      1.00      1.00        26\n",
            "     coconut       1.00      1.00      1.00        27\n",
            "      coffee       1.00      1.00      1.00        17\n",
            "      cotton       1.00      1.00      1.00        17\n",
            "      grapes       1.00      1.00      1.00        14\n",
            "        jute       0.92      1.00      0.96        23\n",
            " kidneybeans       1.00      1.00      1.00        20\n",
            "      lentil       0.92      1.00      0.96        11\n",
            "       maize       1.00      1.00      1.00        21\n",
            "       mango       1.00      1.00      1.00        19\n",
            "   mothbeans       1.00      0.96      0.98        24\n",
            "    mungbean       1.00      1.00      1.00        19\n",
            "   muskmelon       1.00      1.00      1.00        17\n",
            "      orange       1.00      1.00      1.00        14\n",
            "      papaya       1.00      1.00      1.00        23\n",
            "  pigeonpeas       1.00      1.00      1.00        23\n",
            " pomegranate       1.00      1.00      1.00        23\n",
            "        rice       1.00      0.89      0.94        19\n",
            "  watermelon       1.00      1.00      1.00        19\n",
            "\n",
            "    accuracy                           0.99       440\n",
            "   macro avg       0.99      0.99      0.99       440\n",
            "weighted avg       0.99      0.99      0.99       440\n",
            "\n",
            "0.022084712982177734\n"
          ]
        }
      ]
    },
    {
      "cell_type": "markdown",
      "source": [
        "# Gausian Naive Bayes"
      ],
      "metadata": {
        "id": "QwO0p9_2rZ1J"
      }
    },
    {
      "cell_type": "code",
      "source": [
        "from sklearn.naive_bayes import GaussianNB\n",
        "NaiveBayes = GaussianNB()\n",
        "NaiveBayes.fit(x_train,y_train)\n",
        "start_time=time.time()\n",
        "y_pred = NaiveBayes.predict(x_test)\n",
        "end_time=time.time()\n",
        "x = metrics.accuracy_score(y_test, y_pred)\n",
        "acc.append(x)\n",
        "model.append('GNB')\n",
        "print('Accuracy :' , x)\n",
        "print(classification_report(y_test, y_pred))\n",
        "\n",
        "\n",
        "duration= end_time-start_time\n",
        "print(duration)\n",
        "print('Training set score: {:.4f}'.format(NaiveBayes.score(x_train, y_train)))\n",
        "print('Test set score: {:.4f}'.format(NaiveBayes.score(x_test, y_test)))"
      ],
      "metadata": {
        "colab": {
          "base_uri": "https://localhost:8080/"
        },
        "id": "poXgRxPmrod5",
        "outputId": "55ed616c-08cb-4d41-e941-f2894f4eb527"
      },
      "execution_count": null,
      "outputs": [
        {
          "output_type": "stream",
          "name": "stdout",
          "text": [
            "Accuracy : 0.9954545454545455\n",
            "              precision    recall  f1-score   support\n",
            "\n",
            "       apple       1.00      1.00      1.00        23\n",
            "      banana       1.00      1.00      1.00        21\n",
            "   blackgram       1.00      1.00      1.00        20\n",
            "    chickpea       1.00      1.00      1.00        26\n",
            "     coconut       1.00      1.00      1.00        27\n",
            "      coffee       1.00      1.00      1.00        17\n",
            "      cotton       1.00      1.00      1.00        17\n",
            "      grapes       1.00      1.00      1.00        14\n",
            "        jute       0.92      1.00      0.96        23\n",
            " kidneybeans       1.00      1.00      1.00        20\n",
            "      lentil       1.00      1.00      1.00        11\n",
            "       maize       1.00      1.00      1.00        21\n",
            "       mango       1.00      1.00      1.00        19\n",
            "   mothbeans       1.00      1.00      1.00        24\n",
            "    mungbean       1.00      1.00      1.00        19\n",
            "   muskmelon       1.00      1.00      1.00        17\n",
            "      orange       1.00      1.00      1.00        14\n",
            "      papaya       1.00      1.00      1.00        23\n",
            "  pigeonpeas       1.00      1.00      1.00        23\n",
            " pomegranate       1.00      1.00      1.00        23\n",
            "        rice       1.00      0.89      0.94        19\n",
            "  watermelon       1.00      1.00      1.00        19\n",
            "\n",
            "    accuracy                           1.00       440\n",
            "   macro avg       1.00      1.00      1.00       440\n",
            "weighted avg       1.00      1.00      1.00       440\n",
            "\n",
            "0.002554655075073242\n",
            "Training set score: 0.9949\n",
            "Test set score: 0.9955\n"
          ]
        }
      ]
    },
    {
      "cell_type": "markdown",
      "source": [
        "#SVM\n"
      ],
      "metadata": {
        "id": "R5Kwi-eErijV"
      }
    },
    {
      "cell_type": "code",
      "source": [
        "from sklearn.svm import SVC\n",
        "SVM = SVC(gamma='auto')\n",
        "SVM.fit(x_train,y_train)\n",
        "start_time=time.time()\n",
        "predicted_values = SVM.predict(x_test)\n",
        "end_time=time.time()\n",
        "x = metrics.accuracy_score(y_test, y_pred)\n",
        "print('Accuracy:',x )\n",
        "acc.append(x)\n",
        "model.append('SVM')\n",
        "print(classification_report(y_test, y_pred))\n",
        "\n",
        "\n",
        "duration= end_time-start_time\n",
        "print(duration)\n"
      ],
      "metadata": {
        "colab": {
          "base_uri": "https://localhost:8080/"
        },
        "id": "aULDPjA5tYMW",
        "outputId": "63ff5554-54dd-4d9e-98a8-a9a79e6e9025"
      },
      "execution_count": null,
      "outputs": [
        {
          "output_type": "stream",
          "name": "stdout",
          "text": [
            "Accuracy: 0.9954545454545455\n",
            "              precision    recall  f1-score   support\n",
            "\n",
            "       apple       1.00      1.00      1.00        23\n",
            "      banana       1.00      1.00      1.00        21\n",
            "   blackgram       1.00      1.00      1.00        20\n",
            "    chickpea       1.00      1.00      1.00        26\n",
            "     coconut       1.00      1.00      1.00        27\n",
            "      coffee       1.00      1.00      1.00        17\n",
            "      cotton       1.00      1.00      1.00        17\n",
            "      grapes       1.00      1.00      1.00        14\n",
            "        jute       0.92      1.00      0.96        23\n",
            " kidneybeans       1.00      1.00      1.00        20\n",
            "      lentil       1.00      1.00      1.00        11\n",
            "       maize       1.00      1.00      1.00        21\n",
            "       mango       1.00      1.00      1.00        19\n",
            "   mothbeans       1.00      1.00      1.00        24\n",
            "    mungbean       1.00      1.00      1.00        19\n",
            "   muskmelon       1.00      1.00      1.00        17\n",
            "      orange       1.00      1.00      1.00        14\n",
            "      papaya       1.00      1.00      1.00        23\n",
            "  pigeonpeas       1.00      1.00      1.00        23\n",
            " pomegranate       1.00      1.00      1.00        23\n",
            "        rice       1.00      0.89      0.94        19\n",
            "  watermelon       1.00      1.00      1.00        19\n",
            "\n",
            "    accuracy                           1.00       440\n",
            "   macro avg       1.00      1.00      1.00       440\n",
            "weighted avg       1.00      1.00      1.00       440\n",
            "\n",
            "0.08787941932678223\n"
          ]
        }
      ]
    },
    {
      "cell_type": "code",
      "source": [
        "plt.figure(figsize=[10,5])\n",
        "plt.title('Accuracy Comparison')\n",
        "plt.xlabel('Accuracy')\n",
        "plt.ylabel('Algorithm')\n",
        "sns.barplot(x = acc,y = model)"
      ],
      "metadata": {
        "colab": {
          "base_uri": "https://localhost:8080/",
          "height": 504
        },
        "id": "NTnag9Om181X",
        "outputId": "ae8a73c2-838c-4b06-8006-f708654d1189"
      },
      "execution_count": null,
      "outputs": [
        {
          "output_type": "execute_result",
          "data": {
            "text/plain": [
              "<Axes: title={'center': 'Accuracy Comparison'}, xlabel='Accuracy', ylabel='Algorithm'>"
            ]
          },
          "metadata": {},
          "execution_count": 10
        },
        {
          "output_type": "display_data",
          "data": {
            "text/plain": [
              "<Figure size 1000x500 with 1 Axes>"
            ],
            "image/png": "[encoded data removed]"
          },
          "metadata": {}
        }
      ]
    }
  ]
}